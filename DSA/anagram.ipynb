{
 "cells": [
  {
   "cell_type": "code",
   "execution_count": 1,
   "metadata": {},
   "outputs": [
    {
     "name": "stdout",
     "output_type": "stream",
     "text": [
      "yahoo\n",
      "True\n"
     ]
    }
   ],
   "source": [
    "#anagram checker\n",
    "def check(s1,s2):\n",
    "    li = list(s2)\n",
    "    pos1 = 0\n",
    "    look = True\n",
    "    while pos1<len( s1) and look:\n",
    "        pos2=0\n",
    "        found = False\n",
    "        while pos2<len(li) and not found:\n",
    "            if s1[pos1]== li[pos2]:\n",
    "               found = True\n",
    "            else:\n",
    "                pos2+=1\n",
    "        if found:\n",
    "            li[pos2]=None\n",
    "            print(\"yahoo\")\n",
    "        else:\n",
    "            look = False\n",
    "        pos1+=1\n",
    "        return  look\n",
    "print(check(\"hello\",\"elloh\"))"
   ]
  },
  {
   "cell_type": "code",
   "execution_count": null,
   "metadata": {},
   "outputs": [],
   "source": [
    "#anagram check by comparing with less complexity\n",
    "def anagram_solution2(s1,s2):\n",
    " a_list1 = list(s1)\n",
    " a_list2 = list(s2)\n",
    " a_list1.sort()\n",
    " a_list2.sort()\n",
    " pos = 0\n",
    " matches = True\n",
    " while pos < len(s1) and matches:\n",
    "  if a_list1[pos] == a_list2[pos]:\n",
    "   pos = pos + 1\n",
    "  else:\n",
    "   matches = False\n",
    " return matches\n",
    "print(anagram_solution2('abcde','edcba'))"
   ]
  }
 ],
 "metadata": {
  "kernelspec": {
   "display_name": "Python 3.10.6 64-bit",
   "language": "python",
   "name": "python3"
  },
  "language_info": {
   "codemirror_mode": {
    "name": "ipython",
    "version": 3
   },
   "file_extension": ".py",
   "mimetype": "text/x-python",
   "name": "python",
   "nbconvert_exporter": "python",
   "pygments_lexer": "ipython3",
   "version": "3.10.6"
  },
  "orig_nbformat": 4,
  "vscode": {
   "interpreter": {
    "hash": "916dbcbb3f70747c44a77c7bcd40155683ae19c65e1c03b4aa3499c5328201f1"
   }
  }
 },
 "nbformat": 4,
 "nbformat_minor": 2
}
